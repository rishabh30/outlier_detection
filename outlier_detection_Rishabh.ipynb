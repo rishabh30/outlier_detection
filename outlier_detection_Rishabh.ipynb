{
 "cells": [
  {
   "cell_type": "markdown",
   "metadata": {},
   "source": [
    "# Instructions:\n",
    "1. Open file in python3 notebook.\n",
    "2. Please change loc value in the format (r'FilePath\\FileName.xlsx') \n",
    "3. Change sheet name as in sheet1 , sheet2 , sheet3 to the name in the excel file.\n",
    "4. Change the k value according to the position of the sheet (k=position of sheet -1)\n",
    "5. Change index value to the respective column of the price range in the given data/for wihch column you want to calculate outlier range. \n",
    " \n",
    "By : RISHABH SINGHAL"
   ]
  },
  {
   "cell_type": "code",
   "execution_count": 77,
   "metadata": {},
   "outputs": [],
   "source": [
    "import pandas as pd\n",
    "import numpy as np\n",
    "import xlrd\n",
    "import math\n",
    "import statistics\n",
    "import scipy\n",
    "from scipy import stats"
   ]
  },
  {
   "cell_type": "code",
   "execution_count": 78,
   "metadata": {},
   "outputs": [],
   "source": [
    "#np.quantile returns the value which divide the x into the respective ratios \n",
    "#IQR = Interquartile range \n",
    "#function to calculate appropriate unit wise price range which returns the upper and lower value of the range.\n",
    "def IQR(x):\n",
    "    Q1 = np.quantile(x, 0.375)\n",
    "    Q3 = np.quantile(x, 0.875)\n",
    "    Q4 = np.quantile(x, 0.125)\n",
    "    Q5 = np.quantile(x, 0.375)\n",
    "    IQR = Q3 - Q1\n",
    "    IQR2 = Q5 - Q4\n",
    "    lower = Q1 - 1.95*IQR2 \n",
    "    higher = Q3 + 1.8*IQR\n",
    "    return(lower, higher)"
   ]
  },
  {
   "cell_type": "code",
   "execution_count": 79,
   "metadata": {},
   "outputs": [],
   "source": [
    "#change the loc value in the format (r'FilePath\\FileName.xlsx')\n",
    "loc = (r'C:\\Users\\Rishabh Singhal\\Desktop\\to delete\\Phase1Dataset_Hackathon(1)d09fdc4.xlsx') \n",
    "df = pd.read_excel (loc)"
   ]
  },
  {
   "cell_type": "markdown",
   "metadata": {},
   "source": [
    "# For sheet 1(k=0) i.e. for 'Leather Safety Gloves':"
   ]
  },
  {
   "cell_type": "code",
   "execution_count": 80,
   "metadata": {},
   "outputs": [
    {
     "data": {
      "text/html": [
       "<div>\n",
       "<style scoped>\n",
       "    .dataframe tbody tr th:only-of-type {\n",
       "        vertical-align: middle;\n",
       "    }\n",
       "\n",
       "    .dataframe tbody tr th {\n",
       "        vertical-align: top;\n",
       "    }\n",
       "\n",
       "    .dataframe thead th {\n",
       "        text-align: right;\n",
       "    }\n",
       "</style>\n",
       "<table border=\"1\" class=\"dataframe\">\n",
       "  <thead>\n",
       "    <tr style=\"text-align: right;\">\n",
       "      <th></th>\n",
       "      <th>Category Name</th>\n",
       "      <th>Unit</th>\n",
       "      <th>Price</th>\n",
       "    </tr>\n",
       "  </thead>\n",
       "  <tbody>\n",
       "    <tr>\n",
       "      <th>0</th>\n",
       "      <td>Leather Safety Gloves</td>\n",
       "      <td>Pair</td>\n",
       "      <td>10</td>\n",
       "    </tr>\n",
       "    <tr>\n",
       "      <th>1</th>\n",
       "      <td>Leather Safety Gloves</td>\n",
       "      <td>Pair</td>\n",
       "      <td>12</td>\n",
       "    </tr>\n",
       "    <tr>\n",
       "      <th>2</th>\n",
       "      <td>Leather Safety Gloves</td>\n",
       "      <td>Pair</td>\n",
       "      <td>12</td>\n",
       "    </tr>\n",
       "    <tr>\n",
       "      <th>3</th>\n",
       "      <td>Leather Safety Gloves</td>\n",
       "      <td>Pair</td>\n",
       "      <td>20</td>\n",
       "    </tr>\n",
       "    <tr>\n",
       "      <th>4</th>\n",
       "      <td>Leather Safety Gloves</td>\n",
       "      <td>Pair</td>\n",
       "      <td>23</td>\n",
       "    </tr>\n",
       "  </tbody>\n",
       "</table>\n",
       "</div>"
      ],
      "text/plain": [
       "           Category Name  Unit  Price\n",
       "0  Leather Safety Gloves  Pair     10\n",
       "1  Leather Safety Gloves  Pair     12\n",
       "2  Leather Safety Gloves  Pair     12\n",
       "3  Leather Safety Gloves  Pair     20\n",
       "4  Leather Safety Gloves  Pair     23"
      ]
     },
     "execution_count": 80,
     "metadata": {},
     "output_type": "execute_result"
    }
   ],
   "source": [
    "#change sheet1 name as per the name in the excel file\n",
    "sheet1 = 'Leather Safety Gloves'\n",
    "df1 = pd.read_excel (loc , sheet_name = [sheet1])\n",
    "df1[sheet1].head()"
   ]
  },
  {
   "cell_type": "code",
   "execution_count": 81,
   "metadata": {},
   "outputs": [],
   "source": [
    "k=0\n",
    "book = xlrd.open_workbook(loc)\n",
    "sheet = book.sheet_by_index(k)\n",
    "r=0\n",
    "#price_index =2 (change index value according to the data available)\n",
    "index = 2\n",
    "data = [[sheet.cell_value(r, index) for c in range(1)] for r in range(sheet.nrows)]\n",
    "#print(data)"
   ]
  },
  {
   "cell_type": "code",
   "execution_count": 82,
   "metadata": {},
   "outputs": [
    {
     "data": {
      "text/plain": [
       "list"
      ]
     },
     "execution_count": 82,
     "metadata": {},
     "output_type": "execute_result"
    }
   ],
   "source": [
    "type(data)"
   ]
  },
  {
   "cell_type": "code",
   "execution_count": 83,
   "metadata": {},
   "outputs": [
    {
     "data": {
      "text/plain": [
       "numpy.ndarray"
      ]
     },
     "execution_count": 83,
     "metadata": {},
     "output_type": "execute_result"
    }
   ],
   "source": [
    "del data[0]\n",
    "myarray = np.asarray(data)\n",
    "type(myarray)"
   ]
  },
  {
   "cell_type": "code",
   "execution_count": 84,
   "metadata": {},
   "outputs": [],
   "source": [
    "lower, higher = IQR(myarray)"
   ]
  },
  {
   "cell_type": "code",
   "execution_count": 85,
   "metadata": {},
   "outputs": [
    {
     "data": {
      "text/plain": [
       "(11.5, 859.6)"
      ]
     },
     "execution_count": 85,
     "metadata": {},
     "output_type": "execute_result"
    }
   ],
   "source": [
    "lower , higher"
   ]
  },
  {
   "cell_type": "code",
   "execution_count": 86,
   "metadata": {},
   "outputs": [
    {
     "name": "stdout",
     "output_type": "stream",
     "text": [
      "If price is lower than 11.5 or if price is greater than 859.6 then it will be considered as an outlier\n"
     ]
    }
   ],
   "source": [
    "print('If price is lower than',lower,'or if price is greater than', higher ,'then it will be considered as an outlier')"
   ]
  },
  {
   "cell_type": "markdown",
   "metadata": {},
   "source": [
    "# For sheet 2(k=1) i.e. for 'Ladies Kurta':"
   ]
  },
  {
   "cell_type": "code",
   "execution_count": 87,
   "metadata": {},
   "outputs": [
    {
     "data": {
      "text/html": [
       "<div>\n",
       "<style scoped>\n",
       "    .dataframe tbody tr th:only-of-type {\n",
       "        vertical-align: middle;\n",
       "    }\n",
       "\n",
       "    .dataframe tbody tr th {\n",
       "        vertical-align: top;\n",
       "    }\n",
       "\n",
       "    .dataframe thead th {\n",
       "        text-align: right;\n",
       "    }\n",
       "</style>\n",
       "<table border=\"1\" class=\"dataframe\">\n",
       "  <thead>\n",
       "    <tr style=\"text-align: right;\">\n",
       "      <th></th>\n",
       "      <th>Category Name</th>\n",
       "      <th>Unit</th>\n",
       "      <th>Price</th>\n",
       "    </tr>\n",
       "  </thead>\n",
       "  <tbody>\n",
       "    <tr>\n",
       "      <th>0</th>\n",
       "      <td>Ladies Kurta</td>\n",
       "      <td>Piece</td>\n",
       "      <td>1</td>\n",
       "    </tr>\n",
       "    <tr>\n",
       "      <th>1</th>\n",
       "      <td>Ladies Kurta</td>\n",
       "      <td>Piece</td>\n",
       "      <td>1</td>\n",
       "    </tr>\n",
       "    <tr>\n",
       "      <th>2</th>\n",
       "      <td>Ladies Kurta</td>\n",
       "      <td>dollar</td>\n",
       "      <td>7</td>\n",
       "    </tr>\n",
       "    <tr>\n",
       "      <th>3</th>\n",
       "      <td>Ladies Kurta</td>\n",
       "      <td>Piece</td>\n",
       "      <td>20</td>\n",
       "    </tr>\n",
       "    <tr>\n",
       "      <th>4</th>\n",
       "      <td>Ladies Kurta</td>\n",
       "      <td>Piece</td>\n",
       "      <td>20</td>\n",
       "    </tr>\n",
       "  </tbody>\n",
       "</table>\n",
       "</div>"
      ],
      "text/plain": [
       "  Category Name    Unit  Price\n",
       "0  Ladies Kurta   Piece      1\n",
       "1  Ladies Kurta   Piece      1\n",
       "2  Ladies Kurta  dollar      7\n",
       "3  Ladies Kurta   Piece     20\n",
       "4  Ladies Kurta   Piece     20"
      ]
     },
     "execution_count": 87,
     "metadata": {},
     "output_type": "execute_result"
    }
   ],
   "source": [
    "#change sheet2 name as per the name in the excel file\n",
    "sheet2 = 'Ladies Kurta'\n",
    "df2 = pd.read_excel (loc , sheet_name = [sheet2])\n",
    "df2[sheet2].head()"
   ]
  },
  {
   "cell_type": "code",
   "execution_count": 88,
   "metadata": {},
   "outputs": [],
   "source": [
    "k=1\n",
    "book = xlrd.open_workbook(loc)\n",
    "sheet = book.sheet_by_index(k)\n",
    "r=0\n",
    "index=2\n",
    "data = [[sheet.cell_value(r, index) for c in range(1)] for r in range(sheet.nrows)]\n",
    "#print(data)"
   ]
  },
  {
   "cell_type": "code",
   "execution_count": 89,
   "metadata": {},
   "outputs": [],
   "source": [
    "del data[0]\n",
    "myarray = np.asarray(data)\n",
    "type(myarray)\n",
    "lower, higher = IQR(myarray)"
   ]
  },
  {
   "cell_type": "code",
   "execution_count": 90,
   "metadata": {},
   "outputs": [
    {
     "data": {
      "text/plain": [
       "(88.5, 2604.0)"
      ]
     },
     "execution_count": 90,
     "metadata": {},
     "output_type": "execute_result"
    }
   ],
   "source": [
    "lower , higher"
   ]
  },
  {
   "cell_type": "code",
   "execution_count": 91,
   "metadata": {},
   "outputs": [
    {
     "name": "stdout",
     "output_type": "stream",
     "text": [
      "If price is lower than 88.5 or if price is greater than 2604.0 then it will be considered as an outlier\n"
     ]
    }
   ],
   "source": [
    "print('If price is lower than',lower,'or if price is greater than', higher ,'then it will be considered as an outlier')"
   ]
  },
  {
   "cell_type": "markdown",
   "metadata": {},
   "source": [
    "# For sheet 3(k=2) i.e. for 'Impact Drill':"
   ]
  },
  {
   "cell_type": "code",
   "execution_count": 92,
   "metadata": {},
   "outputs": [
    {
     "data": {
      "text/html": [
       "<div>\n",
       "<style scoped>\n",
       "    .dataframe tbody tr th:only-of-type {\n",
       "        vertical-align: middle;\n",
       "    }\n",
       "\n",
       "    .dataframe tbody tr th {\n",
       "        vertical-align: top;\n",
       "    }\n",
       "\n",
       "    .dataframe thead th {\n",
       "        text-align: right;\n",
       "    }\n",
       "</style>\n",
       "<table border=\"1\" class=\"dataframe\">\n",
       "  <thead>\n",
       "    <tr style=\"text-align: right;\">\n",
       "      <th></th>\n",
       "      <th>Category Name</th>\n",
       "      <th>Unit</th>\n",
       "      <th>Price</th>\n",
       "    </tr>\n",
       "  </thead>\n",
       "  <tbody>\n",
       "    <tr>\n",
       "      <th>0</th>\n",
       "      <td>Impact Drill</td>\n",
       "      <td>Piece</td>\n",
       "      <td>2</td>\n",
       "    </tr>\n",
       "    <tr>\n",
       "      <th>1</th>\n",
       "      <td>Impact Drill</td>\n",
       "      <td>Piece</td>\n",
       "      <td>675</td>\n",
       "    </tr>\n",
       "    <tr>\n",
       "      <th>2</th>\n",
       "      <td>Impact Drill</td>\n",
       "      <td>Piece</td>\n",
       "      <td>766</td>\n",
       "    </tr>\n",
       "    <tr>\n",
       "      <th>3</th>\n",
       "      <td>Impact Drill</td>\n",
       "      <td>Piece</td>\n",
       "      <td>900</td>\n",
       "    </tr>\n",
       "    <tr>\n",
       "      <th>4</th>\n",
       "      <td>Impact Drill</td>\n",
       "      <td>Piece</td>\n",
       "      <td>1000</td>\n",
       "    </tr>\n",
       "  </tbody>\n",
       "</table>\n",
       "</div>"
      ],
      "text/plain": [
       "  Category Name   Unit  Price\n",
       "0  Impact Drill  Piece      2\n",
       "1  Impact Drill  Piece    675\n",
       "2  Impact Drill  Piece    766\n",
       "3  Impact Drill  Piece    900\n",
       "4  Impact Drill  Piece   1000"
      ]
     },
     "execution_count": 92,
     "metadata": {},
     "output_type": "execute_result"
    }
   ],
   "source": [
    "#change sheet3 name as per the name in the excel file\n",
    "sheet3 = 'Impact Drill'\n",
    "df3 = pd.read_excel (loc , sheet_name = [sheet3])\n",
    "df3[sheet3].head()"
   ]
  },
  {
   "cell_type": "code",
   "execution_count": 93,
   "metadata": {},
   "outputs": [],
   "source": [
    "k=2\n",
    "book = xlrd.open_workbook(loc)\n",
    "sheet = book.sheet_by_index(k)\n",
    "r=0\n",
    "index = 2\n",
    "data = [[sheet.cell_value(r, index) for c in range(1)] for r in range(sheet.nrows)]\n",
    "#print(data)"
   ]
  },
  {
   "cell_type": "code",
   "execution_count": 94,
   "metadata": {},
   "outputs": [],
   "source": [
    "del data[0]\n",
    "myarray = np.asarray(data)\n",
    "type(myarray)\n",
    "lower, higher = IQR(myarray)"
   ]
  },
  {
   "cell_type": "code",
   "execution_count": 95,
   "metadata": {},
   "outputs": [
    {
     "data": {
      "text/plain": [
       "(833.9625000000001, 28887.05)"
      ]
     },
     "execution_count": 95,
     "metadata": {},
     "output_type": "execute_result"
    }
   ],
   "source": [
    "lower , higher"
   ]
  },
  {
   "cell_type": "code",
   "execution_count": 96,
   "metadata": {},
   "outputs": [
    {
     "name": "stdout",
     "output_type": "stream",
     "text": [
      "If price is lower than 833.9625000000001 or if price is greater than 28887.05 then it will be considered as an outlier\n"
     ]
    }
   ],
   "source": [
    "print('If price is lower than',lower,'or if price is greater than', higher ,'then it will be considered as an outlier')"
   ]
  }
 ],
 "metadata": {
  "kernelspec": {
   "display_name": "Python 3",
   "language": "python",
   "name": "python3"
  },
  "language_info": {
   "codemirror_mode": {
    "name": "ipython",
    "version": 3
   },
   "file_extension": ".py",
   "mimetype": "text/x-python",
   "name": "python",
   "nbconvert_exporter": "python",
   "pygments_lexer": "ipython3",
   "version": "3.7.3"
  }
 },
 "nbformat": 4,
 "nbformat_minor": 2
}